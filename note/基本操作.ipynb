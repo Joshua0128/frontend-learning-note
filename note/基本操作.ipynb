{
 "cells": [
  {
   "cell_type": "markdown",
   "id": "ffec7138-042d-495e-aab5-5bef3338dfbe",
   "metadata": {
    "editable": true,
    "slideshow": {
     "slide_type": ""
    },
    "tags": []
   },
   "source": [
    "# JS learning"
   ]
  },
  {
   "cell_type": "markdown",
   "id": "85d8761f-48a7-492e-b23b-473fed80f510",
   "metadata": {
    "editable": true,
    "slideshow": {
     "slide_type": ""
    },
    "tags": []
   },
   "source": [
    "## 變數宣告\n",
    "- var - js2015唯一宣告變數的方法，宣告就是全域變數\n",
    "- const - 常數(constant)是無法被覆寫的變數，在設計的時候有些變數就不應該被修改\n",
    "- let - 在 modern js 中時做了語法變數域 (Lexical Variable Scope, 又稱靜態變數域)。在js的區塊中，{}中間的區域會產生一個新的變數作用域(Variable Scope)"
   ]
  },
  {
   "cell_type": "code",
   "execution_count": 45,
   "id": "93b52ae5-3830-42da-bc5e-c97b3256cd5e",
   "metadata": {},
   "outputs": [
    {
     "name": "stdout",
     "output_type": "stream",
     "text": [
      "React\n",
      "global React\n"
     ]
    },
    {
     "data": {
      "text/plain": [
       "undefined"
      ]
     },
     "execution_count": 45,
     "metadata": {},
     "output_type": "execute_result"
    }
   ],
   "source": [
    "var topic = \"JS\"\n",
    "\n",
    "if (topic) {\n",
    "    var topic = \"React\"\n",
    "    console.log(topic)\n",
    "}\n",
    "\n",
    "console.log(\"global\", topic)"
   ]
  },
  {
   "cell_type": "code",
   "execution_count": 46,
   "id": "31d50952-db53-42fa-863c-622eaca9f51b",
   "metadata": {},
   "outputs": [
    {
     "name": "stdout",
     "output_type": "stream",
     "text": [
      "React\n",
      "global JS\n"
     ]
    },
    {
     "data": {
      "text/plain": [
       "undefined"
      ]
     },
     "execution_count": 46,
     "metadata": {},
     "output_type": "execute_result"
    }
   ],
   "source": [
    "// 使用let將變數侷限在大括號內，避免污染 global var\n",
    "var topic = \"JS\"\n",
    "\n",
    "if (topic) {\n",
    "    let topic = \"React\"\n",
    "    console.log(topic)\n",
    "}\n",
    "\n",
    "console.log(\"global\", topic)"
   ]
  },
  {
   "cell_type": "markdown",
   "id": "6aaa3750-3fa3-4301-9d43-b9c482eaf11a",
   "metadata": {},
   "source": [
    "## Template String\n",
    "像是 Python 的 f-string，讓人可以輕易將變數遷入字串中。"
   ]
  },
  {
   "cell_type": "code",
   "execution_count": 1,
   "id": "d6b3d34e-93f8-4e0f-8fdb-4cbb65c7cc54",
   "metadata": {},
   "outputs": [
    {
     "name": "stdout",
     "output_type": "stream",
     "text": [
      "\n",
      "    Hello Wei,\n",
      "\n",
      "    BR\n",
      "\n"
     ]
    },
    {
     "data": {
      "text/plain": [
       "undefined"
      ]
     },
     "execution_count": 1,
     "metadata": {},
     "output_type": "execute_result"
    }
   ],
   "source": [
    "const firstName = \"Wei\"\n",
    "\n",
    "const email = `\n",
    "    Hello ${firstName},\n",
    "\n",
    "    BR\n",
    "`\n",
    "console.log(email)"
   ]
  },
  {
   "cell_type": "markdown",
   "id": "f180c27b-6d8e-4b17-9d5f-a52bd09c5f2d",
   "metadata": {},
   "source": [
    "## 創建函式\n",
    "創建 function 有兩種，平常這兩種方法效果是類似的，但是函數宣告會被提吊(Hoist)，但是函數指派不會。 </br>\n",
    "提吊(Hoist): 函數會先被搜集然後放到與區塊的最上方，因此宣告函式跟呼叫函式的順序不影響執行\n",
    "### 函式宣告\n",
    "```\n",
    "function a(){\n",
    "    console.log(\"hi\");\n",
    "}\n",
    "```\n",
    "### 函數指派\n",
    "```\n",
    "const a = function() {\n",
    "    console.log(\"hi\")\n",
    "}\n",
    "a()\n",
    "```"
   ]
  },
  {
   "cell_type": "markdown",
   "id": "ca9b3104-ea0d-4a9c-a004-1e1373d05a34",
   "metadata": {},
   "source": [
    "### 傳遞引數"
   ]
  },
  {
   "cell_type": "code",
   "execution_count": 2,
   "id": "f8b44025-21ef-46c2-be71-cf0014766771",
   "metadata": {},
   "outputs": [
    {
     "name": "stdout",
     "output_type": "stream",
     "text": [
      "Welcome, Wei\n"
     ]
    },
    {
     "data": {
      "text/plain": [
       "undefined"
      ]
     },
     "execution_count": 2,
     "metadata": {},
     "output_type": "execute_result"
    }
   ],
   "source": [
    "const login = function(name) {\n",
    "    console.log(`Welcome, ${name}`);\n",
    "};\n",
    "\n",
    "login(\"Wei\")"
   ]
  },
  {
   "cell_type": "markdown",
   "id": "efb5b853-97de-4262-8d20-96263612c583",
   "metadata": {},
   "source": [
    "### 傳遞的引數可以不只一個"
   ]
  },
  {
   "cell_type": "code",
   "execution_count": 3,
   "id": "a79bc7f9-97c1-4911-a61b-547421625f63",
   "metadata": {},
   "outputs": [
    {
     "name": "stdout",
     "output_type": "stream",
     "text": [
      "Welcome, Wei : Grab a pizza.\n"
     ]
    },
    {
     "data": {
      "text/plain": [
       "undefined"
      ]
     },
     "execution_count": 3,
     "metadata": {},
     "output_type": "execute_result"
    }
   ],
   "source": [
    "const loginWithMessage = function(name, msg) {\n",
    "    console.log(`Welcome, ${name} : ${msg}`);\n",
    "};\n",
    "\n",
    "loginWithMessage(\"Wei\", \"Grab a pizza.\")"
   ]
  },
  {
   "cell_type": "markdown",
   "id": "ec4af1e4-5f91-4b64-b46f-f72d200f8279",
   "metadata": {},
   "source": [
    "### 也能會參數提供預設值"
   ]
  },
  {
   "cell_type": "code",
   "execution_count": 4,
   "id": "7b335e03-1204-437f-84b5-8d9fc802c7e2",
   "metadata": {},
   "outputs": [
    {
     "data": {
      "text/plain": [
       "undefined"
      ]
     },
     "execution_count": 4,
     "metadata": {},
     "output_type": "execute_result"
    }
   ],
   "source": [
    "const loginWithDefaultMessage = function(name = \"DoDo\", msg = \"Yo\") {\n",
    "    console.log(`Welcome, ${name} : ${msg}`);\n",
    "};"
   ]
  },
  {
   "cell_type": "code",
   "execution_count": 5,
   "id": "c90b44be-a157-40ee-968b-2960de1ffa53",
   "metadata": {},
   "outputs": [
    {
     "name": "stdout",
     "output_type": "stream",
     "text": [
      "Welcome, Wei : Grab a burger\n",
      "Welcome, DoDo : Yo\n"
     ]
    },
    {
     "data": {
      "text/plain": [
       "undefined"
      ]
     },
     "execution_count": 5,
     "metadata": {},
     "output_type": "execute_result"
    }
   ],
   "source": [
    "loginWithDefaultMessage(\"Wei\", \"Grab a burger\")\n",
    "loginWithDefaultMessage()"
   ]
  },
  {
   "cell_type": "markdown",
   "id": "76ecbcc1-fe18-4290-a528-ce70650c9368",
   "metadata": {},
   "source": [
    "### 函數回傳值"
   ]
  },
  {
   "cell_type": "code",
   "execution_count": 6,
   "id": "ea648d02-69ca-4496-9dc6-5ff8625c75b9",
   "metadata": {},
   "outputs": [
    {
     "data": {
      "text/plain": [
       "undefined"
      ]
     },
     "execution_count": 6,
     "metadata": {},
     "output_type": "execute_result"
    }
   ],
   "source": [
    "const createCompliment = function(name, msg) {\n",
    "    return `${name}: ${msg}`\n",
    "}"
   ]
  },
  {
   "cell_type": "code",
   "execution_count": 7,
   "id": "19a1e880-864f-4dd2-8e1f-f5d42036713f",
   "metadata": {},
   "outputs": [
    {
     "data": {
      "text/plain": [
       "'wei: hi'"
      ]
     },
     "execution_count": 7,
     "metadata": {},
     "output_type": "execute_result"
    }
   ],
   "source": [
    "createCompliment(\"wei\", \"hi\")"
   ]
  },
  {
   "cell_type": "markdown",
   "id": "1f8b8a1d-0320-4c17-a1d4-064dc627c4e4",
   "metadata": {},
   "source": [
    "## Arrow function\n",
    "這是 js ES6 的最新功能。\n",
    "有了 Arrow function, 可以在不使用 function 的情況創建函式"
   ]
  },
  {
   "cell_type": "code",
   "execution_count": 8,
   "id": "fa5eac31-a450-4c5f-b203-6da8fa375af6",
   "metadata": {},
   "outputs": [
    {
     "data": {
      "text/plain": [
       "undefined"
      ]
     },
     "execution_count": 8,
     "metadata": {},
     "output_type": "execute_result"
    }
   ],
   "source": [
    "function lordify(name) {\n",
    "    return `${name} of canterbury`;\n",
    "}"
   ]
  },
  {
   "cell_type": "code",
   "execution_count": 9,
   "id": "f485beac-7ac4-4ef3-8c91-577b63fc1f62",
   "metadata": {},
   "outputs": [
    {
     "data": {
      "text/plain": [
       "'Wei of canterbury'"
      ]
     },
     "execution_count": 9,
     "metadata": {},
     "output_type": "execute_result"
    }
   ],
   "source": [
    "lordify(\"Wei\")"
   ]
  },
  {
   "cell_type": "markdown",
   "id": "3c6aed77-f928-4942-9ee6-3786154cb6a2",
   "metadata": {},
   "source": [
    "透過 Arrow function 作為語法糖。 function跟return都可以被省略。"
   ]
  },
  {
   "cell_type": "code",
   "execution_count": 10,
   "id": "12bff706-9ca4-4ceb-81fd-5c7fbe4d84de",
   "metadata": {},
   "outputs": [
    {
     "data": {
      "text/plain": [
       "[Function: lordify]"
      ]
     },
     "execution_count": 10,
     "metadata": {},
     "output_type": "execute_result"
    }
   ],
   "source": [
    "lordify = name => `${name}!`"
   ]
  },
  {
   "cell_type": "code",
   "execution_count": 11,
   "id": "ea65bdcf-eaf9-4857-9344-6114d20a6ce2",
   "metadata": {},
   "outputs": [
    {
     "data": {
      "text/plain": [
       "'wei!'"
      ]
     },
     "execution_count": 11,
     "metadata": {},
     "output_type": "execute_result"
    }
   ],
   "source": [
    "lordify(\"wei\")"
   ]
  },
  {
   "cell_type": "markdown",
   "id": "d7c70b74-7775-429e-bbbd-29696bda0818",
   "metadata": {},
   "source": [
    "如果參數跟設計功能比較複雜，就用()來裝引數，{}來放設計功能"
   ]
  },
  {
   "cell_type": "code",
   "execution_count": 12,
   "id": "677a7566-3546-4737-9724-5448b2b9f900",
   "metadata": {},
   "outputs": [
    {
     "data": {
      "text/plain": [
       "[Function: complexFun]"
      ]
     },
     "execution_count": 12,
     "metadata": {},
     "output_type": "execute_result"
    }
   ],
   "source": [
    "complexFun = (name, land) => {\n",
    "    if (!name) {\n",
    "        throw new Error(\"Name is required\")\n",
    "    }\n",
    "\n",
    "    return `${name} of ${land}`\n",
    "}"
   ]
  },
  {
   "cell_type": "code",
   "execution_count": 13,
   "id": "66428079-0eb0-4a6e-8d1c-dc3cd963c7d3",
   "metadata": {},
   "outputs": [
    {
     "data": {
      "text/plain": [
       "'Wei of Taiwan'"
      ]
     },
     "execution_count": 13,
     "metadata": {},
     "output_type": "execute_result"
    }
   ],
   "source": [
    "complexFun(\"Wei\", \"Taiwan\")"
   ]
  },
  {
   "cell_type": "markdown",
   "id": "b3181d0b-c74e-439a-a6fe-8e1a60b7c76e",
   "metadata": {},
   "source": [
    "### Arrow function : 回傳物件"
   ]
  },
  {
   "cell_type": "code",
   "execution_count": 14,
   "id": "2607c496-9045-44d5-88e5-aa6f51afac27",
   "metadata": {},
   "outputs": [
    {
     "ename": "SyntaxError",
     "evalue": "Unexpected token ':'",
     "execution_count": 14,
     "output_type": "error",
     "traceback": [
      "evalmachine.<anonymous>:3",
      "    second: secondName",
      "          ^",
      "",
      "SyntaxError: Unexpected token ':'",
      "    at new Script (node:vm:100:7)",
      "    at createScript (node:vm:259:10)",
      "    at Object.runInThisContext (node:vm:307:10)",
      "    at run ([eval]:1020:15)",
      "    at onRunRequest ([eval]:864:18)",
      "    at onMessage ([eval]:828:13)",
      "    at process.emit (node:events:513:28)",
      "    at emit (node:internal/child_process:937:14)",
      "    at process.processTicksAndRejections (node:internal/process/task_queues:83:21)"
     ]
    }
   ],
   "source": [
    "const person = (firstName, secondName) => {\n",
    "    first: firstName,\n",
    "    second: secondName\n",
    "}"
   ]
  },
  {
   "cell_type": "markdown",
   "id": "60c3bfe8-0fa8-4f1e-90ee-acd24356f5af",
   "metadata": {},
   "source": [
    "以上問題很常發生，只要將物件用()包覆就能解決這個問題"
   ]
  },
  {
   "cell_type": "code",
   "execution_count": 15,
   "id": "c572bd36-66f0-4cce-840c-5f3570a4fab7",
   "metadata": {},
   "outputs": [
    {
     "data": {
      "text/plain": [
       "undefined"
      ]
     },
     "execution_count": 15,
     "metadata": {},
     "output_type": "execute_result"
    }
   ],
   "source": [
    "const person = (firstName, secondName) => ({\n",
    "    first: firstName,\n",
    "    second: secondName\n",
    "})"
   ]
  },
  {
   "cell_type": "code",
   "execution_count": 16,
   "id": "9d1cddd6-6c06-47a4-a2bd-65c81805def4",
   "metadata": {},
   "outputs": [
    {
     "data": {
      "text/plain": [
       "{ first: 'WeiTing', second: 'Wu' }"
      ]
     },
     "execution_count": 16,
     "metadata": {},
     "output_type": "execute_result"
    }
   ],
   "source": [
    "person(\"WeiTing\", \"Wu\")"
   ]
  },
  {
   "cell_type": "markdown",
   "id": "167f5fac-7e61-4331-bc37-31b395446f79",
   "metadata": {},
   "source": [
    "## Arrow function Scope"
   ]
  },
  {
   "cell_type": "markdown",
   "id": "ce5a223a-754f-4ad8-ab82-46cb7b04c52f",
   "metadata": {},
   "source": [
    "標準函式並不會靜態地決定this的scope"
   ]
  },
  {
   "cell_type": "code",
   "execution_count": 17,
   "id": "2bfcceb0-76fe-4527-b257-8b1f9b6e5205",
   "metadata": {},
   "outputs": [
    {
     "data": {
      "text/plain": [
       "undefined"
      ]
     },
     "execution_count": 17,
     "metadata": {},
     "output_type": "execute_result"
    }
   ],
   "source": [
    "const tahoe = {\n",
    "    mountains: [\"Freel\", \"Rose\", \"Tallac\", \"Rubicon\"],\n",
    "    print: function(delay = 1000) {\n",
    "        setTimeout(function(){\n",
    "            console.log(this.mountains.join(\",\"))\n",
    "        }, delay)\n",
    "    }\n",
    "}"
   ]
  },
  {
   "cell_type": "code",
   "execution_count": 18,
   "id": "5b900cb7-be2d-42e8-b7bc-382c013ad2ce",
   "metadata": {},
   "outputs": [
    {
     "data": {
      "text/plain": [
       "undefined"
      ]
     },
     "execution_count": 18,
     "metadata": {},
     "output_type": "execute_result"
    }
   ],
   "source": [
    "tahoe.print()"
   ]
  },
  {
   "cell_type": "markdown",
   "id": "08438a72-4b02-4d68-aee9-d4ba82079b68",
   "metadata": {},
   "source": [
    "以上錯誤代表this.mountains並沒有被解析成 string array."
   ]
  },
  {
   "cell_type": "code",
   "execution_count": 19,
   "id": "c2c4bd0e-953a-4afe-a0bc-92fb2c0e7686",
   "metadata": {},
   "outputs": [
    {
     "data": {
      "text/plain": [
       "undefined"
      ]
     },
     "execution_count": 19,
     "metadata": {},
     "output_type": "execute_result"
    }
   ],
   "source": [
    "const tahoe_debug = {\n",
    "    mountains: [\"Freel\", \"Rose\", \"Tallac\", \"Rubicon\"],\n",
    "    print: function(delay = 1000) {\n",
    "        setTimeout(function(){\n",
    "            console.log(this)\n",
    "            console.log(this.mountains.join(\",\"))\n",
    "        }, delay)\n",
    "    }\n",
    "}"
   ]
  },
  {
   "cell_type": "code",
   "execution_count": 20,
   "id": "8c81ff48-45ac-4dcb-8a48-169e09f6e4d7",
   "metadata": {},
   "outputs": [
    {
     "data": {
      "text/plain": [
       "undefined"
      ]
     },
     "execution_count": 20,
     "metadata": {},
     "output_type": "execute_result"
    }
   ],
   "source": [
    "tahoe_debug.print()"
   ]
  },
  {
   "cell_type": "markdown",
   "id": "0a2920d8-8e55-448f-aa9b-e750813f9591",
   "metadata": {},
   "source": [
    "要解決這個問題可以使用 arrow function, 把this固定在靜態的scope"
   ]
  },
  {
   "cell_type": "code",
   "execution_count": 21,
   "id": "1fe1a8a7-1bc9-437a-9e72-5b5759227b49",
   "metadata": {},
   "outputs": [
    {
     "name": "stderr",
     "output_type": "stream",
     "text": [
      "TypeError: Cannot read properties of undefined (reading 'join')\n",
      "    at Timeout._onTimeout (evalmachine.<anonymous>:5:40)\n",
      "    at listOnTimeout (node:internal/timers:569:17)\n",
      "    at process.processTimers (node:internal/timers:512:7)"
     ]
    },
    {
     "data": {
      "text/plain": [
       "undefined"
      ]
     },
     "execution_count": 21,
     "metadata": {},
     "output_type": "execute_result"
    }
   ],
   "source": [
    "const tahoe_arrow = {\n",
    "    mountains: [\"Freel\", \"Rose\", \"Tallac\", \"Rubicon\"],\n",
    "    print: function(delay=1000) {\n",
    "        setTimeout(() => {\n",
    "            console.log(this.mountains.join(\", \"));\n",
    "        }, delay);\n",
    "    }\n",
    "}"
   ]
  },
  {
   "cell_type": "code",
   "execution_count": 22,
   "id": "fe059204-fd40-4641-89f6-1f07e0786ce0",
   "metadata": {},
   "outputs": [
    {
     "data": {
      "text/plain": [
       "undefined"
      ]
     },
     "execution_count": 22,
     "metadata": {},
     "output_type": "execute_result"
    }
   ],
   "source": [
    "tahoe_arrow.print()"
   ]
  },
  {
   "cell_type": "markdown",
   "id": "0b045af3-d8a0-44dd-851a-18996c279853",
   "metadata": {},
   "source": [
    "要注意的是，arrow function並沒有自己的this scope, 因此會指向上層的global scope"
   ]
  },
  {
   "cell_type": "code",
   "execution_count": 23,
   "id": "1e759d2e-a4dd-4fae-a573-9d18f6b047f4",
   "metadata": {},
   "outputs": [
    {
     "name": "stdout",
     "output_type": "stream",
     "text": [
      "Timeout {\n",
      "  _idleTimeout: 1000,\n",
      "  _idlePrev: null,\n",
      "  _idleNext: null,\n",
      "  _idleStart: 6184,\n",
      "  _onTimeout: [Function (anonymous)],\n",
      "  _timerArgs: undefined,\n",
      "  _repeat: null,\n",
      "  _destroyed: false,\n",
      "  [Symbol(refed)]: true,\n",
      "  [Symbol(kHasPrimitive)]: false,\n",
      "  [Symbol(asyncId)]: 83,\n",
      "  [Symbol(triggerId)]: 80\n",
      "}\n"
     ]
    },
    {
     "name": "stderr",
     "output_type": "stream",
     "text": [
      "TypeError: Cannot read properties of undefined (reading 'join')\n",
      "    at Timeout._onTimeout (evalmachine.<anonymous>:6:40)\n",
      "    at listOnTimeout (node:internal/timers:569:17)\n",
      "    at process.processTimers (node:internal/timers:512:7)"
     ]
    },
    {
     "data": {
      "text/plain": [
       "undefined"
      ]
     },
     "execution_count": 23,
     "metadata": {},
     "output_type": "execute_result"
    }
   ],
   "source": [
    "const tahoe_arrow2 = {\n",
    "    mountains: [\"Freel\", \"Rose\", \"Tallac\", \"Rubicon\"],\n",
    "    print: (delay=1000) => {\n",
    "        setTimeout(() => {\n",
    "            console.log(this.mountains.join(\", \"));\n",
    "        }, delay);\n",
    "    }\n",
    "}"
   ]
  },
  {
   "cell_type": "code",
   "execution_count": 24,
   "id": "605a9c75-4f7f-46b9-b814-6d7f1ce2e663",
   "metadata": {},
   "outputs": [
    {
     "data": {
      "text/plain": [
       "undefined"
      ]
     },
     "execution_count": 24,
     "metadata": {},
     "output_type": "execute_result"
    },
    {
     "name": "stdout",
     "output_type": "stream",
     "text": [
      "Freel, Rose, Tallac, Rubicon\n"
     ]
    }
   ],
   "source": [
    "tahoe_arrow2.print()"
   ]
  },
  {
   "cell_type": "markdown",
   "id": "a29d2c92-7c5c-4137-b493-5a7d75e5b412",
   "metadata": {},
   "source": [
    "## !TODO: 理解 js 的this scope."
   ]
  },
  {
   "cell_type": "markdown",
   "id": "63d135c0-054e-4b34-9b38-e68886a016a9",
   "metadata": {},
   "source": [
    "## 物件與陣列 (Object & Array)"
   ]
  },
  {
   "cell_type": "markdown",
   "id": "0ea36813-6d6e-423b-adde-d768574fdf7b",
   "metadata": {},
   "source": [
    "### 物件解構 Destructuring Assignment"
   ]
  },
  {
   "cell_type": "code",
   "execution_count": 25,
   "id": "3488c618-2d40-4b31-9f0d-f5675eaf8f8c",
   "metadata": {},
   "outputs": [
    {
     "data": {
      "text/plain": [
       "undefined"
      ]
     },
     "execution_count": 25,
     "metadata": {},
     "output_type": "execute_result"
    },
    {
     "name": "stderr",
     "output_type": "stream",
     "text": [
      "TypeError: Cannot read properties of undefined (reading 'join')\n",
      "    at Timeout._onTimeout (evalmachine.<anonymous>:5:40)\n",
      "    at listOnTimeout (node:internal/timers:569:17)\n",
      "    at process.processTimers (node:internal/timers:512:7)"
     ]
    }
   ],
   "source": [
    "const burger = {\n",
    "    bread: \"bun\",\n",
    "    meat: \"beef\",\n",
    "    cheese: \"swiss\",\n",
    "    toppings: [\"lettuce\", \"tomato\", \"mustard\"]\n",
    "}"
   ]
  },
  {
   "cell_type": "code",
   "execution_count": 26,
   "id": "34a66fb8-2b2d-461f-b2ae-daf617ace156",
   "metadata": {},
   "outputs": [
    {
     "data": {
      "text/plain": [
       "undefined"
      ]
     },
     "execution_count": 26,
     "metadata": {},
     "output_type": "execute_result"
    }
   ],
   "source": [
    "let {bread, meat} = burger"
   ]
  },
  {
   "cell_type": "code",
   "execution_count": 27,
   "id": "fada7c08-e9c2-4fbc-bc04-0e4aa409a1a9",
   "metadata": {},
   "outputs": [
    {
     "name": "stdout",
     "output_type": "stream",
     "text": [
      "bun beef\n"
     ]
    },
    {
     "data": {
      "text/plain": [
       "undefined"
      ]
     },
     "execution_count": 27,
     "metadata": {},
     "output_type": "execute_result"
    }
   ],
   "source": [
    "console.log(bread, meat)"
   ]
  },
  {
   "cell_type": "code",
   "execution_count": 28,
   "id": "7667e924-b604-4533-8d15-21d65882b74e",
   "metadata": {},
   "outputs": [
    {
     "data": {
      "text/plain": [
       "[Function: showBurger]"
      ]
     },
     "execution_count": 28,
     "metadata": {},
     "output_type": "execute_result"
    }
   ],
   "source": [
    "showBurger = ({bread, meat, cheese, toppings}) => {\n",
    "    console.log(`\n",
    "        bread = ${bread}\n",
    "        meat = ${meat}\n",
    "        cheese = ${cheese}\n",
    "        toppings = ${toppings}`)\n",
    "}"
   ]
  },
  {
   "cell_type": "code",
   "execution_count": 29,
   "id": "5db73c7c-3d88-408f-9a41-e3cde98a6400",
   "metadata": {},
   "outputs": [
    {
     "name": "stdout",
     "output_type": "stream",
     "text": [
      "\n",
      "        bread = bun\n",
      "        meat = beef\n",
      "        cheese = swiss\n",
      "        toppings = lettuce,tomato,mustard\n"
     ]
    },
    {
     "data": {
      "text/plain": [
       "undefined"
      ]
     },
     "execution_count": 29,
     "metadata": {},
     "output_type": "execute_result"
    }
   ],
   "source": [
    "showBurger(burger)"
   ]
  },
  {
   "cell_type": "code",
   "execution_count": 30,
   "id": "d6596228-d1e6-48d8-a3e8-59b6dee9a648",
   "metadata": {},
   "outputs": [
    {
     "data": {
      "text/plain": [
       "undefined"
      ]
     },
     "execution_count": 30,
     "metadata": {},
     "output_type": "execute_result"
    }
   ],
   "source": [
    "const Combo1 = {\n",
    "    drink: \"coke zero\",\n",
    "    meal: burger\n",
    "}"
   ]
  },
  {
   "cell_type": "markdown",
   "id": "f14470b2-88cb-4e74-9a54-e9932f96da06",
   "metadata": {},
   "source": [
    "物件解構也可以解開巢狀物件"
   ]
  },
  {
   "cell_type": "code",
   "execution_count": 31,
   "id": "021d34e4-e7a0-4c78-96c8-480a376fff4c",
   "metadata": {},
   "outputs": [
    {
     "data": {
      "text/plain": [
       "[Function: showMeal]"
      ]
     },
     "execution_count": 31,
     "metadata": {},
     "output_type": "execute_result"
    }
   ],
   "source": [
    "showMeal = ({meal: {bread, cheese}}) => {\n",
    "    console.log(`${bread}, ${cheese}`)\n",
    "}"
   ]
  },
  {
   "cell_type": "code",
   "execution_count": 32,
   "id": "33a1f8bb-acdd-4008-a9b2-d001e07a2040",
   "metadata": {},
   "outputs": [
    {
     "name": "stdout",
     "output_type": "stream",
     "text": [
      "bun, swiss\n"
     ]
    },
    {
     "data": {
      "text/plain": [
       "undefined"
      ]
     },
     "execution_count": 32,
     "metadata": {},
     "output_type": "execute_result"
    }
   ],
   "source": [
    "showMeal(Combo1)"
   ]
  },
  {
   "cell_type": "markdown",
   "id": "ebf04b7f-5e44-4ba4-969d-0ec0f6190e07",
   "metadata": {},
   "source": [
    "### 陣列解構"
   ]
  },
  {
   "cell_type": "code",
   "execution_count": 33,
   "id": "e48e0a4a-e705-41d0-95ce-1394989ae173",
   "metadata": {},
   "outputs": [
    {
     "data": {
      "text/plain": [
       "undefined"
      ]
     },
     "execution_count": 33,
     "metadata": {},
     "output_type": "execute_result"
    }
   ],
   "source": [
    "let [firstAnimal] = [\"House\", \"Cat\", \"Dog\"]"
   ]
  },
  {
   "cell_type": "code",
   "execution_count": 34,
   "id": "179f2fd4-afea-48d9-910f-1a5cbab1f7ea",
   "metadata": {},
   "outputs": [
    {
     "data": {
      "text/plain": [
       "'House'"
      ]
     },
     "execution_count": 34,
     "metadata": {},
     "output_type": "execute_result"
    }
   ],
   "source": [
    "firstAnimal"
   ]
  },
  {
   "cell_type": "code",
   "execution_count": 35,
   "id": "8f431b63-fd0a-45e3-b980-fa171df2bde2",
   "metadata": {},
   "outputs": [
    {
     "data": {
      "text/plain": [
       "undefined"
      ]
     },
     "execution_count": 35,
     "metadata": {},
     "output_type": "execute_result"
    }
   ],
   "source": [
    "let [, , thirdAnimal] = [\"House\", \"Cat\", \"Dog\"]"
   ]
  },
  {
   "cell_type": "code",
   "execution_count": 36,
   "id": "537ad677-874b-4b4b-b278-e3d4be352f53",
   "metadata": {},
   "outputs": [
    {
     "data": {
      "text/plain": [
       "'Dog'"
      ]
     },
     "execution_count": 36,
     "metadata": {},
     "output_type": "execute_result"
    }
   ],
   "source": [
    "thirdAnimal"
   ]
  },
  {
   "cell_type": "markdown",
   "id": "02d72dab-c698-412f-824c-54f96f5557e6",
   "metadata": {},
   "source": [
    "### 物件語法強化"
   ]
  },
  {
   "cell_type": "markdown",
   "id": "036884e4-cc07-4a94-88f0-e3824cb8aa7b",
   "metadata": {},
   "source": [
    "物件解構的反向操作，能讓我們透過精簡的語法將變數重組成物件"
   ]
  },
  {
   "cell_type": "code",
   "execution_count": 37,
   "id": "9d7346b3-1c69-4b81-8561-8435a2c782e8",
   "metadata": {},
   "outputs": [
    {
     "data": {
      "text/plain": [
       "undefined"
      ]
     },
     "execution_count": 37,
     "metadata": {},
     "output_type": "execute_result"
    }
   ],
   "source": [
    "let name = \"Tic Tac Toe\"\n",
    "let elevation = 9453\n",
    "let funHike = {name, elevation}"
   ]
  },
  {
   "cell_type": "code",
   "execution_count": 38,
   "id": "95f677a2-baea-4348-9f5c-6d46c6104810",
   "metadata": {},
   "outputs": [
    {
     "data": {
      "text/plain": [
       "{ name: 'Tic Tac Toe', elevation: 9453 }"
      ]
     },
     "execution_count": 38,
     "metadata": {},
     "output_type": "execute_result"
    }
   ],
   "source": [
    "funHike"
   ]
  },
  {
   "cell_type": "code",
   "execution_count": 39,
   "id": "6f95d373-073e-4431-8f60-0330f632e303",
   "metadata": {},
   "outputs": [
    {
     "data": {
      "text/plain": [
       "undefined"
      ]
     },
     "execution_count": 39,
     "metadata": {},
     "output_type": "execute_result"
    }
   ],
   "source": [
    "let print = () => {\n",
    "    console.log(`Mt.${this.name} is ${this.elevation} feets tall`)\n",
    "}"
   ]
  },
  {
   "cell_type": "code",
   "execution_count": 41,
   "id": "da004790-23e0-46c4-9a75-373a8800b634",
   "metadata": {},
   "outputs": [
    {
     "data": {
      "text/plain": [
       "undefined"
      ]
     },
     "execution_count": 41,
     "metadata": {},
     "output_type": "execute_result"
    }
   ],
   "source": [
    "let funHikeObj = {name, elevation, print}"
   ]
  },
  {
   "cell_type": "code",
   "execution_count": 42,
   "id": "761e1f61-1bee-4c32-bb3b-6eeda3014ca1",
   "metadata": {},
   "outputs": [
    {
     "name": "stdout",
     "output_type": "stream",
     "text": [
      "Mt.undefined is undefined feets tall\n"
     ]
    },
    {
     "data": {
      "text/plain": [
       "undefined"
      ]
     },
     "execution_count": 42,
     "metadata": {},
     "output_type": "execute_result"
    }
   ],
   "source": [
    "funHikeObj.print()"
   ]
  },
  {
   "cell_type": "markdown",
   "id": "072977f6-0065-4c7b-9e3a-3366a68e412c",
   "metadata": {},
   "source": [
    "在語法強化的幫助下，創建物件的method時，不再需要使用function關鍵字"
   ]
  },
  {
   "cell_type": "code",
   "execution_count": 43,
   "id": "5d453f40-75a6-49b9-8eab-61361ae33ab2",
   "metadata": {},
   "outputs": [
    {
     "data": {
      "text/plain": [
       "undefined"
      ]
     },
     "execution_count": 43,
     "metadata": {},
     "output_type": "execute_result"
    }
   ],
   "source": [
    "let n = \"Tallac\"\n",
    "let sound = \"roar\""
   ]
  },
  {
   "cell_type": "code",
   "execution_count": 45,
   "id": "449af816-aac4-45aa-b0d8-7355046b9616",
   "metadata": {},
   "outputs": [
    {
     "data": {
      "text/plain": [
       "{\n",
       "  n: 'Tallac',\n",
       "  sound: 'roar',\n",
       "  powerYell: [Function: powerYell],\n",
       "  speed: [Function: speed]\n",
       "}"
      ]
     },
     "execution_count": 45,
     "metadata": {},
     "output_type": "execute_result"
    }
   ],
   "source": [
    "skier = {\n",
    "    n,\n",
    "    sound,\n",
    "    powerYell() {\n",
    "        let yell = this.sound.toUpperCase();\n",
    "        console.log(yell)\n",
    "    },\n",
    "    speed(mph) {\n",
    "        this.speed = mph;\n",
    "        console.log(\"speed:\", mph)\n",
    "    }\n",
    "}"
   ]
  },
  {
   "cell_type": "code",
   "execution_count": 46,
   "id": "02332f0c-f753-47bb-83d9-505b35627d1a",
   "metadata": {},
   "outputs": [
    {
     "name": "stdout",
     "output_type": "stream",
     "text": [
      "ROAR\n"
     ]
    },
    {
     "data": {
      "text/plain": [
       "undefined"
      ]
     },
     "execution_count": 46,
     "metadata": {},
     "output_type": "execute_result"
    }
   ],
   "source": [
    "skier.powerYell()"
   ]
  },
  {
   "cell_type": "code",
   "execution_count": 47,
   "id": "0794eb96-5a21-41c7-8c81-19cfce14650d",
   "metadata": {},
   "outputs": [
    {
     "name": "stdout",
     "output_type": "stream",
     "text": [
      "speed: 100\n"
     ]
    },
    {
     "data": {
      "text/plain": [
       "undefined"
      ]
     },
     "execution_count": 47,
     "metadata": {},
     "output_type": "execute_result"
    }
   ],
   "source": [
    "skier.speed(100)"
   ]
  },
  {
   "cell_type": "code",
   "execution_count": 48,
   "id": "d2d249a0-ab28-4d67-af00-0fbb9bd0eccc",
   "metadata": {},
   "outputs": [
    {
     "data": {
      "text/plain": [
       "100"
      ]
     },
     "execution_count": 48,
     "metadata": {},
     "output_type": "execute_result"
    }
   ],
   "source": [
    "skier.speed"
   ]
  },
  {
   "cell_type": "markdown",
   "id": "2428b76f-d499-4a38-97d1-17aa95f2fb8b",
   "metadata": {},
   "source": [
    "### 延展運算子 Spread operator\n",
    "The spread (...) syntax allows an iterable, such as an array or string, to be expanded in places where zero or more arguments (for function calls) or elements (for array literals) are expected. In an object literal, the spread syntax enumerates the properties of an object and adds the key-value pairs to the object being created."
   ]
  },
  {
   "cell_type": "code",
   "execution_count": 49,
   "id": "2287c526-ff33-4e78-b9d4-f22c9ebf711e",
   "metadata": {},
   "outputs": [
    {
     "data": {
      "text/plain": [
       "undefined"
      ]
     },
     "execution_count": 49,
     "metadata": {},
     "output_type": "execute_result"
    }
   ],
   "source": [
    "const peaks = [\"Tallc\", \"Ralston\", \"Rose\"]\n",
    "const canyons = [\"Ward\", \"BlackWood\"]"
   ]
  },
  {
   "cell_type": "code",
   "execution_count": 51,
   "id": "811dd65a-24f5-4749-b917-4e0c6d9f19ea",
   "metadata": {},
   "outputs": [
    {
     "data": {
      "text/plain": [
       "undefined"
      ]
     },
     "execution_count": 51,
     "metadata": {},
     "output_type": "execute_result"
    }
   ],
   "source": [
    "const all_mounts = [...peaks, ...canyons]"
   ]
  },
  {
   "cell_type": "code",
   "execution_count": 52,
   "id": "e1525612-2fef-434b-a92f-c776db229243",
   "metadata": {},
   "outputs": [
    {
     "data": {
      "text/plain": [
       "[ 'Tallc', 'Ralston', 'Rose', 'Ward', 'BlackWood' ]"
      ]
     },
     "execution_count": 52,
     "metadata": {},
     "output_type": "execute_result"
    }
   ],
   "source": [
    "all_mounts"
   ]
  },
  {
   "cell_type": "code",
   "execution_count": 53,
   "id": "ee111dd3-2e72-4f67-89cc-36196e2d95d8",
   "metadata": {},
   "outputs": [
    {
     "data": {
      "text/plain": [
       "undefined"
      ]
     },
     "execution_count": 53,
     "metadata": {},
     "output_type": "execute_result"
    }
   ],
   "source": [
    "const [last] = [...all_mounts].reverse()"
   ]
  },
  {
   "cell_type": "code",
   "execution_count": 54,
   "id": "b3d446ec-8178-49a8-946f-31f3902c46c5",
   "metadata": {},
   "outputs": [
    {
     "data": {
      "text/plain": [
       "'BlackWood'"
      ]
     },
     "execution_count": 54,
     "metadata": {},
     "output_type": "execute_result"
    }
   ],
   "source": [
    "last"
   ]
  },
  {
   "cell_type": "code",
   "execution_count": 55,
   "id": "83d175d7-e28d-4834-b0e0-0e37126b999d",
   "metadata": {},
   "outputs": [
    {
     "data": {
      "text/plain": [
       "[ 'Tallc', 'Ralston', 'Rose', 'Ward', 'BlackWood' ]"
      ]
     },
     "execution_count": 55,
     "metadata": {},
     "output_type": "execute_result"
    }
   ],
   "source": [
    "all_mounts"
   ]
  },
  {
   "cell_type": "markdown",
   "id": "277642ec-a411-4508-9dbc-42072359ed94",
   "metadata": {},
   "source": [
    "也可用於取得剩餘(rest)的成員"
   ]
  },
  {
   "cell_type": "code",
   "execution_count": 58,
   "id": "28c57823-f28f-4169-8b40-0f4c739ffcb0",
   "metadata": {},
   "outputs": [
    {
     "ename": "SyntaxError",
     "evalue": "Identifier 'first' has already been declared",
     "execution_count": 58,
     "output_type": "error",
     "traceback": [
      "evalmachine.<anonymous>:1",
      "let [first, ...others] = all_mounts",
      "^",
      "",
      "SyntaxError: Identifier 'first' has already been declared",
      "    at Script.runInThisContext (node:vm:129:12)",
      "    at Object.runInThisContext (node:vm:307:38)",
      "    at run ([eval]:1020:15)",
      "    at onRunRequest ([eval]:864:18)",
      "    at onMessage ([eval]:828:13)",
      "    at process.emit (node:events:513:28)",
      "    at emit (node:internal/child_process:937:14)",
      "    at process.processTicksAndRejections (node:internal/process/task_queues:83:21)"
     ]
    }
   ],
   "source": [
    "let [first, ...others] = all_mounts"
   ]
  },
  {
   "cell_type": "code",
   "execution_count": 60,
   "id": "5344825e-ecea-417c-89fa-75f9ed3ef6d5",
   "metadata": {},
   "outputs": [
    {
     "data": {
      "text/plain": [
       "[ 'Ralston', 'Rose', 'Ward', 'BlackWood' ]"
      ]
     },
     "execution_count": 60,
     "metadata": {},
     "output_type": "execute_result"
    }
   ],
   "source": [
    "others"
   ]
  },
  {
   "cell_type": "markdown",
   "id": "9b37fc66-8506-4c4d-b669-44e922822321",
   "metadata": {},
   "source": [
    "也可以有類似 python args 的用法"
   ]
  },
  {
   "cell_type": "code",
   "execution_count": 78,
   "id": "dbf1b5c1-43fd-440a-8968-baf674cec228",
   "metadata": {},
   "outputs": [
    {
     "data": {
      "text/plain": [
       "[Function: directions]"
      ]
     },
     "execution_count": 78,
     "metadata": {},
     "output_type": "execute_result"
    }
   ],
   "source": [
    "directions = (...args) => {\n",
    "    let [start, ...remaining] = args;\n",
    "    let [finish, ...stops] = remaining.reverse()\n",
    "\n",
    "    console.log(`開車經過 ${args.length} 座山`)\n",
    "    console.log(`起點是 ${start}`)\n",
    "    console.log(`終點是 ${finish}`)\n",
    "    console.log(`途中經過 ${stops}`)\n",
    "}"
   ]
  },
  {
   "cell_type": "code",
   "execution_count": 79,
   "id": "5e96f4f8-530f-462a-b45c-c727357dfc37",
   "metadata": {},
   "outputs": [
    {
     "data": {
      "text/plain": [
       "[ 'Tallc', 'Ralston', 'Rose', 'Ward', 'BlackWood' ]"
      ]
     },
     "execution_count": 79,
     "metadata": {},
     "output_type": "execute_result"
    }
   ],
   "source": [
    "all_mounts"
   ]
  },
  {
   "cell_type": "code",
   "execution_count": 80,
   "id": "b8fa1b95-3e96-4ee6-865f-f4e7afb263f8",
   "metadata": {},
   "outputs": [
    {
     "name": "stdout",
     "output_type": "stream",
     "text": [
      "開車經過 5 座山\n",
      "起點是 Tallc\n",
      "終點是 BlackWood\n",
      "途中經過 Ward,Rose,Ralston\n"
     ]
    },
    {
     "data": {
      "text/plain": [
       "undefined"
      ]
     },
     "execution_count": 80,
     "metadata": {},
     "output_type": "execute_result"
    }
   ],
   "source": [
    "directions(...all_mounts)"
   ]
  },
  {
   "cell_type": "markdown",
   "id": "af343076-6c27-4ab2-95d4-16db52d995e3",
   "metadata": {},
   "source": [
    "用在物件中也可以"
   ]
  },
  {
   "cell_type": "code",
   "execution_count": 82,
   "id": "19f54219-56b2-4e09-ab61-d8be1a43aa31",
   "metadata": {},
   "outputs": [
    {
     "data": {
      "text/plain": [
       "{ breakfast: 'oatmeal', lunch: 'burber' }"
      ]
     },
     "execution_count": 82,
     "metadata": {},
     "output_type": "execute_result"
    }
   ],
   "source": [
    "morning = {\n",
    "    breakfast: \"oatmeal\",\n",
    "    lunch: \"burber\"\n",
    "}"
   ]
  },
  {
   "cell_type": "code",
   "execution_count": 83,
   "id": "d4a8f638-b963-403e-98ab-3eb4c6ebe1a2",
   "metadata": {},
   "outputs": [
    {
     "data": {
      "text/plain": [
       "'pizza'"
      ]
     },
     "execution_count": 83,
     "metadata": {},
     "output_type": "execute_result"
    }
   ],
   "source": [
    "dinner = \"pizza\""
   ]
  },
  {
   "cell_type": "code",
   "execution_count": 84,
   "id": "49a41d17-0adc-4c8e-9924-9d88e12d3a75",
   "metadata": {},
   "outputs": [
    {
     "data": {
      "text/plain": [
       "{ breakfast: 'oatmeal', lunch: 'burber', dinner: 'pizza' }"
      ]
     },
     "execution_count": 84,
     "metadata": {},
     "output_type": "execute_result"
    }
   ],
   "source": [
    "allDayMeal = {\n",
    "    ...morning,\n",
    "    dinner\n",
    "}"
   ]
  },
  {
   "cell_type": "code",
   "execution_count": 85,
   "id": "4a5a4a73-2f37-4311-9016-b18862ac482b",
   "metadata": {},
   "outputs": [
    {
     "data": {
      "text/plain": [
       "{ breakfast: 'oatmeal', lunch: 'burber', dinner: 'pizza' }"
      ]
     },
     "execution_count": 85,
     "metadata": {},
     "output_type": "execute_result"
    }
   ],
   "source": [
    "allDayMeal"
   ]
  },
  {
   "cell_type": "markdown",
   "id": "812af154-69b5-4bf3-a1c5-575e60cc0606",
   "metadata": {},
   "source": [
    "也可以用於解構賦值"
   ]
  },
  {
   "cell_type": "code",
   "execution_count": 94,
   "id": "58298e7e-8c70-45d7-a37a-46e001207da2",
   "metadata": {},
   "outputs": [
    {
     "data": {
      "text/plain": [
       "undefined"
      ]
     },
     "execution_count": 94,
     "metadata": {},
     "output_type": "execute_result"
    }
   ],
   "source": [
    "let {lunch, ...otherMeals} = allDayMeal"
   ]
  },
  {
   "cell_type": "code",
   "execution_count": 96,
   "id": "673e0a5e-d3ed-4b87-9fd2-b782838e9130",
   "metadata": {},
   "outputs": [
    {
     "data": {
      "text/plain": [
       "'burber'"
      ]
     },
     "execution_count": 96,
     "metadata": {},
     "output_type": "execute_result"
    }
   ],
   "source": [
    "lunch"
   ]
  },
  {
   "cell_type": "code",
   "execution_count": 98,
   "id": "89f18781-e75c-46b1-9840-d90ee6ae2119",
   "metadata": {},
   "outputs": [
    {
     "data": {
      "text/plain": [
       "{ breakfast: 'oatmeal', dinner: 'pizza' }"
      ]
     },
     "execution_count": 98,
     "metadata": {},
     "output_type": "execute_result"
    }
   ],
   "source": [
    "otherMeals"
   ]
  },
  {
   "cell_type": "markdown",
   "id": "2eede5c7-36d8-4b6e-b893-3f3dd162112a",
   "metadata": {},
   "source": [
    "## 物件導向"
   ]
  },
  {
   "cell_type": "markdown",
   "id": "05017f2a-4060-44da-91eb-4cd1614e8b3b",
   "metadata": {},
   "source": [
    "在ES2015年以前, JS並沒有Class的語法。不過JS其實也沒有真的跟java, c++一樣有實作物件，而是用原型繼承(prototypical inheritance)來創造類似物件導向的資料結構。"
   ]
  },
  {
   "cell_type": "markdown",
   "id": "a7b9a5b0-8ef0-4985-8797-5289c707ad81",
   "metadata": {},
   "source": [
    "在JavaScript中，原型繼承（prototypical inheritance）是一種物件間的繼承機制，其中一個物件可以繼承另一個物件的屬性和方法。每個JavaScript物件都有一個原型（prototype），並且可以從原型繼承屬性和方法。\n",
    "\n",
    "當我們訪問一個物件的屬性或方法時，如果該物件本身沒有這個屬性或方法，JavaScript引擎會去檢查該物件的原型是否有這個屬性或方法。如果原型中也沒有該屬性或方法，引擎會繼續檢查原型的原型，這種連鎖的關係稱為原型鏈（prototype chain）。"
   ]
  },
  {
   "cell_type": "markdown",
   "id": "0fde2eb2-65f5-4394-bdf0-587c08a06b2d",
   "metadata": {},
   "source": [
    "### 原型繼承與傳統類繼承的差異"
   ]
  },
  {
   "cell_type": "markdown",
   "id": "1a12cd6f-c7fc-4ba4-8249-509628ec00bf",
   "metadata": {},
   "source": [
    "原型繼承在一般的物件導向設計中與傳統的類繼承（class inheritance）有一些差異。以下是其中一些主要差異：\n",
    "\n",
    "- 繼承機制：在傳統的類繼承中，類定義了對象的結構和行為，並且創建新的對象時，會使用類的實例化機制。而在原型繼承中，對象直接從其他對象或原型繼承屬性和方法。\n",
    "- 類與實例：在傳統的類繼承中，存在明確的類和實例的概念，類定義了對象的結構和行為，而實例是從類實例化得到的具體對象。在原型繼承中，沒有明確的類和實例的區分，每個對象都可以充當其他對象的原型。\n",
    "- 動態性：原型繼承允許在運行時動態更改和擴展對象的原型，這意味著一個對象可以在運行時繼承其他對象的屬性和方法，並且對象的原型可以動態修改。這種動態性使得原型繼承在某些情況下更靈活。\n",
    "- 原型鏈：在原型繼承中，對象通過原型鏈連接到它的原型，形成一個連鎖結構。這使得對象可以在原型鏈上查找和繼承屬性和方法。而在傳統的類繼承中，繼承關係通常是以階層結構的形式存在。\n",
    "- 覆寫和委託：在傳統的類繼承中，子類可以覆寫父類的方法並定義自己的行為。在原型繼承中，對象可以直接修改自己的原型，也可以通過委託（delegation）將某些操作委託給其他對象處理。\n"
   ]
  },
  {
   "cell_type": "markdown",
   "id": "b8ac1187-6acd-4700-a4a5-4ce6a5429bd3",
   "metadata": {},
   "source": [
    "### 優缺點"
   ]
  },
  {
   "cell_type": "markdown",
   "id": "ac8fc7cb-e269-4fb4-89bc-edf6a24e31bd",
   "metadata": {},
   "source": [
    "原型繼承擁有以下優點：\n",
    "\n",
    "- 簡單且靈活：原型繼承的概念相對簡單，並且在JavaScript中已經內建支援。它提供了靈活的方式來繼承和擴展對象，可以在運行時動態修改和擴展原型。\n",
    "- 動態性：由於原型繼承允許動態更改原型，對象可以在運行時繼承其他對象的屬性和方法，這使得原型繼承在某些情況下更具彈性。\n",
    "- 資源共享：原型繼承允許多個對象共享同一個原型，這樣可以節省記憶體和資源，特別是當對象需要共享大量屬性和方法時。\n",
    "\n",
    "然而，原型繼承也存在一些缺點：\n",
    "- 隱含性：原型繼承的一個缺點是繼承關係不太明確，對象的屬性和方法來自於其原型，這種隱含性可能使程式碼的理解和維護變得困難。\n",
    "- 原型汙染：在原型繼承中，對象的屬性和方法存儲在原型中，當對原型進行修改時，所有繼承自該原型的對象都會受到影響。這可能導致意外的行為，特別是在多人協作或大型應用中。\n",
    "- 缺乏封裝：原型繼承並沒有提供一個明確的封裝機制，對象可以直接修改原型，這可能導致對象之間的耦合問題和意外的衝突。\n",
    "- 原型鏈查找效率：在原型繼承中，當查找對象的屬性或方法時，需要遍歷整個原型鏈。這可能會導致查找效率的降低，特別是當原型鏈較長時。\n",
    "\n",
    "綜合考慮這些優點和缺點，開發者在使用原型繼承時需要謹慎設計和管理原型鏈，確保程式碼的可讀性和可維護性。在某些情況下，其他繼承機制（如類繼承）"
   ]
  },
  {
   "cell_type": "markdown",
   "id": "fe65fc3b-ebec-44b0-87d6-c3fa17f1c2d6",
   "metadata": {},
   "source": [
    "### 原型繼承範例\n",
    "在以下的程式碼創造了一個行為模式很像物件導向程式語言的的自定義類別 Vacation, 這個類別具有屬性(dest, len)也有方法(print)。\n",
    "但其實本質上創造的物件就是函式，而繼承或是實例化就是透過原型去達成"
   ]
  },
  {
   "cell_type": "code",
   "execution_count": 107,
   "id": "261398f9-7f29-423e-b380-57a185666fae",
   "metadata": {},
   "outputs": [
    {
     "data": {
      "text/plain": [
       "undefined"
      ]
     },
     "execution_count": 107,
     "metadata": {},
     "output_type": "execute_result"
    }
   ],
   "source": [
    "function Vacation(dest, len) {\n",
    "    this.dest = dest\n",
    "    this.len = len\n",
    "}"
   ]
  },
  {
   "cell_type": "code",
   "execution_count": 108,
   "id": "3d2002bf-7d58-4d06-8590-802eefd60aa9",
   "metadata": {},
   "outputs": [
    {
     "data": {
      "text/plain": [
       "[Function (anonymous)]"
      ]
     },
     "execution_count": 108,
     "metadata": {},
     "output_type": "execute_result"
    }
   ],
   "source": [
    "Vacation.prototype.print = function () {\n",
    "    console.log(`${this.dest} | ${this.len} days`)\n",
    "}"
   ]
  },
  {
   "cell_type": "code",
   "execution_count": 109,
   "id": "e6825ff7-372f-4e6e-a0f4-9cfac5ce54e8",
   "metadata": {},
   "outputs": [
    {
     "ename": "SyntaxError",
     "evalue": "Identifier 'v' has already been declared",
     "execution_count": 109,
     "output_type": "error",
     "traceback": [
      "evalmachine.<anonymous>:1",
      "const v = new Vacation(\"Taiwan\", 14)",
      "^",
      "",
      "SyntaxError: Identifier 'v' has already been declared",
      "    at Script.runInThisContext (node:vm:129:12)",
      "    at Object.runInThisContext (node:vm:307:38)",
      "    at run ([eval]:1020:15)",
      "    at onRunRequest ([eval]:864:18)",
      "    at onMessage ([eval]:828:13)",
      "    at process.emit (node:events:513:28)",
      "    at emit (node:internal/child_process:937:14)",
      "    at process.processTicksAndRejections (node:internal/process/task_queues:83:21)"
     ]
    }
   ],
   "source": [
    "const v = new Vacation(\"Taiwan\", 14)"
   ]
  },
  {
   "cell_type": "code",
   "execution_count": 110,
   "id": "b02483fe-02fb-4380-8585-0f80af85ea09",
   "metadata": {},
   "outputs": [
    {
     "name": "stdout",
     "output_type": "stream",
     "text": [
      "Taiwan | 14 days\n"
     ]
    },
    {
     "data": {
      "text/plain": [
       "undefined"
      ]
     },
     "execution_count": 110,
     "metadata": {},
     "output_type": "execute_result"
    }
   ],
   "source": [
    "v.print()"
   ]
  },
  {
   "cell_type": "markdown",
   "id": "078f3864-f37c-4f58-9e83-6334f11ad88c",
   "metadata": {},
   "source": [
    "為了讓語法上更接近一般習慣OOP的人, ES2015推出了類別宣告跟Classe關鍵字。但其實只是語法糖，本質上還是在做上面的事情"
   ]
  },
  {
   "cell_type": "code",
   "execution_count": 112,
   "id": "7df49de9-d852-4471-b059-aca17714e8da",
   "metadata": {},
   "outputs": [
    {
     "data": {
      "text/plain": [
       "undefined"
      ]
     },
     "execution_count": 112,
     "metadata": {},
     "output_type": "execute_result"
    }
   ],
   "source": [
    "class VacationClass {\n",
    "    constructor(dest, len) {\n",
    "        this.dest = dest\n",
    "        this.len = len\n",
    "    }\n",
    "    print() {\n",
    "        console.log(`${this.dest} | ${this.len} days`)\n",
    "    }\n",
    "}"
   ]
  },
  {
   "cell_type": "code",
   "execution_count": 113,
   "id": "5790d200-e86d-401a-8e7e-6e29d0506f2d",
   "metadata": {},
   "outputs": [
    {
     "data": {
      "text/plain": [
       "VacationClass { dest: 'CN', len: 1000 }"
      ]
     },
     "execution_count": 113,
     "metadata": {},
     "output_type": "execute_result"
    }
   ],
   "source": [
    "trip = new VacationClass(\"CN\", 1000)"
   ]
  },
  {
   "cell_type": "code",
   "execution_count": 114,
   "id": "16447493-0c2d-470f-9eae-eb3b71c07139",
   "metadata": {},
   "outputs": [
    {
     "name": "stdout",
     "output_type": "stream",
     "text": [
      "CN | 1000 days\n"
     ]
    },
    {
     "data": {
      "text/plain": [
       "undefined"
      ]
     },
     "execution_count": 114,
     "metadata": {},
     "output_type": "execute_result"
    }
   ],
   "source": [
    "trip.print()"
   ]
  },
  {
   "cell_type": "markdown",
   "id": "89c941fb-4c69-4398-a86f-e3a117eb06a3",
   "metadata": {},
   "source": [
    "類別宣告完成後就可以任意將之實體化。"
   ]
  },
  {
   "cell_type": "markdown",
   "id": "a46c066e-148a-4be5-b648-773f0e58aa78",
   "metadata": {},
   "source": [
    "### 類別繼承"
   ]
  },
  {
   "cell_type": "markdown",
   "id": "d1ea7493-2588-489f-b996-a0cc7cdb88b0",
   "metadata": {},
   "source": [
    "類別可以被繼承(Extend), 子類別會預設繼承父類別的方法與屬性，當然也可以在子類別上面重設子類別來的方法與屬性"
   ]
  },
  {
   "cell_type": "code",
   "execution_count": 116,
   "id": "b785fe2e-9822-4d35-8e4c-e1a66872f778",
   "metadata": {},
   "outputs": [
    {
     "data": {
      "text/plain": [
       "undefined"
      ]
     },
     "execution_count": 116,
     "metadata": {},
     "output_type": "execute_result"
    }
   ],
   "source": [
    "class Expedition extends Vacation {\n",
    "    constructor (dest, len, gear) {\n",
    "        super(dest, len)\n",
    "        this.gear = gear\n",
    "    }\n",
    "\n",
    "    print() {\n",
    "        super.print()\n",
    "        console.log(`Bring your ${this.gear.join(\" and \")}`)\n",
    "    }\n",
    "}"
   ]
  },
  {
   "cell_type": "code",
   "execution_count": 117,
   "id": "3aa95143-177e-40a8-a536-b3fa2d005e0a",
   "metadata": {},
   "outputs": [
    {
     "data": {
      "text/plain": [
       "Expedition { dest: 'Taipei', len: 3, gear: [ 'Laptop', 'CellPhone' ] }"
      ]
     },
     "execution_count": 117,
     "metadata": {},
     "output_type": "execute_result"
    }
   ],
   "source": [
    "expedition = new Expedition(\n",
    "    \"Taipei\",\n",
    "    3,\n",
    "    [\"Laptop\", \"CellPhone\"]\n",
    ")"
   ]
  },
  {
   "cell_type": "code",
   "execution_count": 118,
   "id": "663f212d-c94b-438b-b0ce-557cfc93afd1",
   "metadata": {},
   "outputs": [
    {
     "name": "stdout",
     "output_type": "stream",
     "text": [
      "Taipei | 3 days\n",
      "Bring your Laptop and CellPhone\n"
     ]
    },
    {
     "data": {
      "text/plain": [
       "undefined"
      ]
     },
     "execution_count": 118,
     "metadata": {},
     "output_type": "execute_result"
    }
   ],
   "source": [
    "expedition.print()"
   ]
  },
  {
   "cell_type": "markdown",
   "id": "8dea3ef8-a958-4ef3-9a9b-b6422c277316",
   "metadata": {},
   "source": [
    "## ES6 模組 v.s. CommonJS 模組"
   ]
  },
  {
   "cell_type": "markdown",
   "id": "2c04e33c-efe2-4573-9c83-7fc610b491ed",
   "metadata": {
    "scrolled": true
   },
   "source": [
    "模組(Module)是一段可以重複使用的程式碼，可以輕鬆被整合進目前的程式中，卻不會導致變數的命名衝突"
   ]
  },
  {
   "attachments": {
    "bbe853b0-ce99-42ef-a5ff-bc68cea4581b.png": {
     "image/png": "[encoded data removed]"
    }
   },
   "cell_type": "markdown",
   "id": "7d50b67a-48ff-49db-b314-e84ced916d75",
   "metadata": {},
   "source": [
    "![image.png](attachment:bbe853b0-ce99-42ef-a5ff-bc68cea4581b.png)"
   ]
  },
  {
   "cell_type": "code",
   "execution_count": null,
   "id": "71cdec4a-86b9-4176-8030-16bfd06daf42",
   "metadata": {},
   "outputs": [],
   "source": []
  }
 ],
 "metadata": {
  "kernelspec": {
   "display_name": "JavaScript (Node.js)",
   "language": "javascript",
   "name": "javascript"
  },
  "language_info": {
   "file_extension": ".js",
   "mimetype": "application/javascript",
   "name": "javascript",
   "version": "18.14.1"
  }
 },
 "nbformat": 4,
 "nbformat_minor": 5
}
