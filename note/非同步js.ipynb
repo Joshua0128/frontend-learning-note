{
 "cells": [
  {
   "cell_type": "markdown",
   "id": "c62534ea-9a13-4d8b-9ec8-7068add6e73b",
   "metadata": {},
   "source": [
    "在基本操作中，都是同步(Synchronous)的，也就是會照順序執行，一個接一個，後面的要等到前面的執行完才能執行"
   ]
  },
  {
   "cell_type": "markdown",
   "id": "2aa8de17-69f9-447b-8066-75717df34ed3",
   "metadata": {},
   "source": [
    "不過在現代的Web應用中應用中，(Asynchronous)執行的任務，像是去打API要資料，這些任務如果是用同步的話，就會發生你要等到所有的垃圾廣告都load進來才可以在fb發文"
   ]
  },
  {
   "cell_type": "markdown",
   "id": "65185d60-28c1-476f-bcb7-d824c1d8917a",
   "metadata": {},
   "source": [
    "## Fetch\n",
    "曾經打REST API是一件很麻煩的事情，要寫20幾行程式碼，但是在fetch出來之後大幅簡化這個流程。 <br>\n",
    "fetch 函式會回傳一個 Promise 物件"
   ]
  },
  {
   "cell_type": "code",
   "execution_count": 11,
   "id": "95bbd3ce-7a8e-405e-bc75-f5bd316c14ad",
   "metadata": {},
   "outputs": [
    {
     "data": {
      "text/plain": [
       "Promise { <pending> }"
      ]
     },
     "execution_count": 11,
     "metadata": {},
     "output_type": "execute_result"
    }
   ],
   "source": [
    "fetch(\"https://api.randomuser.me/?nat=US&results=1\")"
   ]
  },
  {
   "cell_type": "markdown",
   "id": "45901253-9fba-49dc-83d9-14081ba03634",
   "metadata": {},
   "source": [
    "## 解析 Promise 物件"
   ]
  },
  {
   "cell_type": "markdown",
   "id": "916ddad8-e43b-42da-b7ba-8e1cb0323e16",
   "metadata": {},
   "source": [
    "Promise 物件有三種狀態\n",
    "- pending\n",
    "- fulfilled\n",
    "- rejected\n",
    "<br>"
   ]
  },
  {
   "cell_type": "markdown",
   "id": "e0b86334-d7a2-4666-8d9b-e6f3ea8f168f",
   "metadata": {},
   "source": [
    "### .then()\n",
    "我們可以用.then()串接後面要執行的func，一旦狀態從pending改變，就會觸發.then()中的callback函式, 如果發生錯誤，則會觸發.catch中的exception"
   ]
  },
  {
   "cell_type": "code",
   "execution_count": 24,
   "id": "5a9589fe-819b-48ae-b10d-71f07aab7c8d",
   "metadata": {},
   "outputs": [
    {
     "data": {
      "text/plain": [
       "Promise { <pending> }"
      ]
     },
     "execution_count": 24,
     "metadata": {},
     "output_type": "execute_result"
    },
    {
     "name": "stdout",
     "output_type": "stream",
     "text": [
      "[\n",
      "  {\n",
      "    gender: 'female',\n",
      "    name: { title: 'Ms', first: 'Alexa', last: 'Scott' },\n",
      "    location: {\n",
      "      street: [Object],\n",
      "      city: 'Las Vegas',\n",
      "      state: 'Minnesota',\n",
      "      country: 'United States',\n",
      "      postcode: 28794,\n",
      "      coordinates: [Object],\n",
      "      timezone: [Object]\n",
      "    },\n",
      "    email: 'alexa.scott@example.com',\n",
      "    login: {\n",
      "      uuid: '0de08777-3ab1-42e8-91e9-c4afeef4ffad',\n",
      "      username: 'purplerabbit355',\n",
      "      password: 'titan',\n",
      "      salt: 'PTfk3Hue',\n",
      "      md5: '5c94efbcc68b3e2bee9de3bb3539cf0d',\n",
      "      sha1: '3db8874e5d09a6202b389063dcac0dbe00d34540',\n",
      "      sha256: '09c28a3ddfb918049b0e431dc1d2272709560fed560f14f8e479422724105058'\n",
      "    },\n",
      "    dob: { date: '1982-04-06T03:55:41.985Z', age: 41 },\n",
      "    registered: { date: '2021-04-29T06:20:01.092Z', age: 2 },\n",
      "    phone: '(992) 996-8964',\n",
      "    cell: '(227) 294-7960',\n",
      "    id: { name: 'SSN', value: '793-33-7442' },\n",
      "    picture: {\n",
      "      large: 'https://randomuser.me/api/portraits/women/87.jpg',\n",
      "      medium: 'https://randomuser.me/api/portraits/med/women/87.jpg',\n",
      "      thumbnail: 'https://randomuser.me/api/portraits/thumb/women/87.jpg'\n",
      "    },\n",
      "    nat: 'US'\n",
      "  }\n",
      "]\n"
     ]
    }
   ],
   "source": [
    "fetch(\"https://api.randomuser.me/?nat=US&results=1\")\n",
    "    .then(res => res.json())\n",
    "    .then(json => json.results)\n",
    "    .then(console.log)\n",
    "    .catch(console.error)"
   ]
  },
  {
   "cell_type": "markdown",
   "id": "e7c56bda-b42d-4492-9fe5-32adbe131534",
   "metadata": {},
   "source": [
    "### Async function\n",
    "另外一個常見的解析 Promise 的方法就是用 Async function"
   ]
  },
  {
   "cell_type": "code",
   "execution_count": 25,
   "id": "643ebee3-01c0-41b9-aa9a-df499cdd0c29",
   "metadata": {},
   "outputs": [
    {
     "data": {
      "text/plain": [
       "[AsyncFunction: getFakePersion]"
      ]
     },
     "execution_count": 25,
     "metadata": {},
     "output_type": "execute_result"
    }
   ],
   "source": [
    "getFakePersion = async () => {\n",
    "    try {    \n",
    "        let res = await fetch(\"https://api.randomuser.me/?nat=US&results=1\")\n",
    "        //console.log(res)\n",
    "        let { results } = await res.json()\n",
    "        console.log(results)\n",
    "    } catch (error) {\n",
    "        console.log(error)\n",
    "    }\n",
    "}"
   ]
  },
  {
   "cell_type": "code",
   "execution_count": 26,
   "id": "144640f9-ffc1-4cd5-b2dc-7a92fe704e24",
   "metadata": {},
   "outputs": [
    {
     "data": {
      "text/plain": [
       "Promise { <pending> }"
      ]
     },
     "execution_count": 26,
     "metadata": {},
     "output_type": "execute_result"
    },
    {
     "name": "stdout",
     "output_type": "stream",
     "text": [
      "[\n",
      "  {\n",
      "    gender: 'male',\n",
      "    name: { title: 'Mr', first: 'Derek', last: 'Scott' },\n",
      "    location: {\n",
      "      street: [Object],\n",
      "      city: 'Paterson',\n",
      "      state: 'Michigan',\n",
      "      country: 'United States',\n",
      "      postcode: 22497,\n",
      "      coordinates: [Object],\n",
      "      timezone: [Object]\n",
      "    },\n",
      "    email: 'derek.scott@example.com',\n",
      "    login: {\n",
      "      uuid: '3d0b0a72-5502-45df-8382-8eef6fbc2d44',\n",
      "      username: 'orangedog583',\n",
      "      password: 'cigar',\n",
      "      salt: 'vvbkvZ7F',\n",
      "      md5: '53161d53aab2eb073c81de0d887b2f64',\n",
      "      sha1: 'b959995b3403ecbd41f360c0b40b6611f2aeac43',\n",
      "      sha256: '84c23cd41482c4e1e0ef3506fe6a1d8c0bed59638d3cec5ec80874d696f9fac0'\n",
      "    },\n",
      "    dob: { date: '1997-07-01T08:22:03.239Z', age: 25 },\n",
      "    registered: { date: '2020-09-21T23:28:55.231Z', age: 2 },\n",
      "    phone: '(597) 818-2216',\n",
      "    cell: '(948) 823-7134',\n",
      "    id: { name: 'SSN', value: '705-54-7074' },\n",
      "    picture: {\n",
      "      large: 'https://randomuser.me/api/portraits/men/94.jpg',\n",
      "      medium: 'https://randomuser.me/api/portraits/med/men/94.jpg',\n",
      "      thumbnail: 'https://randomuser.me/api/portraits/thumb/men/94.jpg'\n",
      "    },\n",
      "    nat: 'US'\n",
      "  }\n",
      "]\n"
     ]
    }
   ],
   "source": [
    "getFakePersion()"
   ]
  },
  {
   "cell_type": "markdown",
   "id": "9d181679-fa9e-4a54-a0fe-a33230325877",
   "metadata": {},
   "source": [
    "## 創建一個 Promise 物件"
   ]
  },
  {
   "cell_type": "code",
   "execution_count": 27,
   "id": "5217b1ee-88eb-4cb1-9313-bfb8fce09c07",
   "metadata": {},
   "outputs": [
    {
     "data": {
      "text/plain": [
       "[Function: getPeople]"
      ]
     },
     "execution_count": 27,
     "metadata": {},
     "output_type": "execute_result"
    }
   ],
   "source": [
    "getPeople = (count) => \n",
    "    new Promise((resolve, rejects) => {\n",
    "        const api = `https://api.randomuser.me/?nat=US&results=${count}`\n",
    "        const request = new XMLHttpRequest()\n",
    "        request.open(\"GET\", api)\n",
    "        request.onload = () => {\n",
    "            request.status === 200 \n",
    "                ? resolve(JSON.parse(request.reponse).results) \n",
    "                : reject(Error(request.statusText))\n",
    "        }\n",
    "        request.onerror = err => rejects(err)\n",
    "        request.send()\n",
    "    })"
   ]
  },
  {
   "cell_type": "code",
   "execution_count": 28,
   "id": "ae645d6c-62d1-4738-8733-1241324f0bef",
   "metadata": {},
   "outputs": [
    {
     "data": {
      "text/plain": [
       "Promise {\n",
       "  <rejected> ReferenceError: XMLHttpRequest is not defined\n",
       "      at evalmachine.<anonymous>:4:25\n",
       "      at new Promise (<anonymous>)\n",
       "      at getPeople (evalmachine.<anonymous>:2:5)\n",
       "      at evalmachine.<anonymous>:1:1\n",
       "      at Script.runInThisContext (node:vm:129:12)\n",
       "      at Object.runInThisContext (node:vm:307:38)\n",
       "      at run ([eval]:1020:15)\n",
       "      at onRunRequest ([eval]:864:18)\n",
       "      at onMessage ([eval]:828:13)\n",
       "      at process.emit (node:events:513:28)\n",
       "}"
      ]
     },
     "execution_count": 28,
     "metadata": {},
     "output_type": "execute_result"
    },
    {
     "name": "stderr",
     "output_type": "stream",
     "text": [
      "ReferenceError: XMLHttpRequest is not defined\n",
      "    at evalmachine.<anonymous>:4:25\n",
      "    at new Promise (<anonymous>)\n",
      "    at getPeople (evalmachine.<anonymous>:2:5)\n",
      "    at evalmachine.<anonymous>:1:1\n",
      "    at Script.runInThisContext (node:vm:129:12)\n",
      "    at Object.runInThisContext (node:vm:307:38)\n",
      "    at run ([eval]:1020:15)\n",
      "    at onRunRequest ([eval]:864:18)\n",
      "    at onMessage ([eval]:828:13)\n",
      "    at process.emit (node:events:513:28)"
     ]
    }
   ],
   "source": [
    "getPeople(1)"
   ]
  },
  {
   "cell_type": "code",
   "execution_count": null,
   "id": "3bd42629-f79d-4569-aefd-20af2d3f95c1",
   "metadata": {},
   "outputs": [],
   "source": []
  },
  {
   "cell_type": "code",
   "execution_count": null,
   "id": "34fd0e13-ed71-4c3d-afdd-d4eef8973e4f",
   "metadata": {},
   "outputs": [],
   "source": []
  }
 ],
 "metadata": {
  "kernelspec": {
   "display_name": "JavaScript (Node.js)",
   "language": "javascript",
   "name": "javascript"
  },
  "language_info": {
   "file_extension": ".js",
   "mimetype": "application/javascript",
   "name": "javascript",
   "version": "18.14.1"
  }
 },
 "nbformat": 4,
 "nbformat_minor": 5
}
